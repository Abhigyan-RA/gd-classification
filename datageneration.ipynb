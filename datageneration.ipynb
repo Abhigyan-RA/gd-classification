{
 "cells": [
  {
   "cell_type": "code",
   "execution_count": null,
   "metadata": {},
   "outputs": [
    {
     "ename": "MemoryError",
     "evalue": "Unable to allocate 29.8 GiB for an array with shape (1000, 2000000) and data type complex128",
     "output_type": "error",
     "traceback": [
      "\u001b[31m---------------------------------------------------------------------------\u001b[39m",
      "\u001b[31mMemoryError\u001b[39m                               Traceback (most recent call last)",
      "\u001b[36mCell\u001b[39m\u001b[36m \u001b[39m\u001b[32mIn[1]\u001b[39m\u001b[32m, line 60\u001b[39m\n\u001b[32m     56\u001b[39m     data.append(iq)\n\u001b[32m     57\u001b[39m     labels.append(label)\n\u001b[32m---> \u001b[39m\u001b[32m60\u001b[39m data = \u001b[43mnp\u001b[49m\u001b[43m.\u001b[49m\u001b[43marray\u001b[49m\u001b[43m(\u001b[49m\u001b[43mdata\u001b[49m\u001b[43m)\u001b[49m\n\u001b[32m     61\u001b[39m labels = np.array(labels)\n\u001b[32m     64\u001b[39m \u001b[38;5;28;01mwith\u001b[39;00m h5py.File(\u001b[33m'\u001b[39m\u001b[33msynthetic_drone_data.h5\u001b[39m\u001b[33m'\u001b[39m, \u001b[33m'\u001b[39m\u001b[33mw\u001b[39m\u001b[33m'\u001b[39m) \u001b[38;5;28;01mas\u001b[39;00m f:\n",
      "\u001b[31mMemoryError\u001b[39m: Unable to allocate 29.8 GiB for an array with shape (1000, 2000000) and data type complex128"
     ]
    }
   ],
   "source": [
    "import numpy as np\n",
    "import matplotlib.pyplot as plt\n",
    "from scipy.signal import chirp, butter, lfilter\n",
    "import h5py\n",
    "\n",
    "\n",
    "fs = 20e6           # Sample rate (20 MSPS, matches PlutoSDR SP1.1)\n",
    "fc = 2.45e9         # Center frequency (ISM band) [currently not used]\n",
    "signal_duration = 0.1  # 100 ms signal blocks; consider reducing if memory issues occur\n",
    "snr_db = 10         # Signal-to-noise ratio (adjust for realism)\n",
    "\n",
    "\n",
    "def generate_drone_signal(t):\n",
    "    \"\"\"Simulate a drone-like modulated signal (e.g., QPSK-like)\"\"\"\n",
    "    # Baseband modulation (simplified)\n",
    "    symbols = np.random.randint(0, 4, size=len(t))  # 4-QAM symbols\n",
    "    i = np.cos(2 * np.pi * 1e6 * t) * (symbols % 2)\n",
    "    q = np.sin(2 * np.pi * 1e6 * t) * ((symbols // 2) % 2)\n",
    "    signal = i + 1j * q\n",
    "    \n",
    "    # Optional: shift to passband using the center frequency\n",
    "    # signal = signal * np.exp(1j * 2 * np.pi * fc * t)\n",
    "    \n",
    "    return signal\n",
    "\n",
    "def add_noise(signal, snr_db):\n",
    "    \"\"\"Add Gaussian noise at specified SNR\"\"\"\n",
    "    signal_power = np.mean(np.abs(signal)**2)\n",
    "    noise_power = signal_power / (10 ** (snr_db / 10))\n",
    "    noise = np.sqrt(noise_power) * (np.random.randn(*signal.shape) + 1j*np.random.randn(*signal.shape))/np.sqrt(2)\n",
    "    return signal + noise\n",
    "\n",
    "def apply_freq_offset(signal, fs, offset_hz):\n",
    "    \"\"\"Simulate frequency offset (e.g., from oscillator drift)\"\"\"\n",
    "    t = np.arange(len(signal)) / fs\n",
    "    return signal * np.exp(1j * 2 * np.pi * offset_hz * t)\n",
    "\n",
    "\n",
    "num_samples = 1000  # Number of signal blocks\n",
    "data = []\n",
    "labels = []\n",
    "\n",
    "for _ in range(num_samples):\n",
    "    t = np.arange(int(signal_duration * fs)) / fs\n",
    "    \n",
    "    # Randomly choose class (drone or noise)\n",
    "    if np.random.rand() < 0.5:  # 50% drone signals\n",
    "        iq = generate_drone_signal(t)\n",
    "        iq = apply_freq_offset(iq, fs, offset_hz=np.random.uniform(-1e3, 1e3)) \n",
    "        label = 1 \n",
    "    else:\n",
    "        iq = np.random.randn(len(t)) + 1j * np.random.randn(len(t))  \n",
    "        label = 0  # Noise\n",
    "        \n",
    "    iq = add_noise(iq, snr_db)\n",
    "    data.append(iq)\n",
    "    labels.append(label)\n",
    "\n",
    "\n",
    "data = np.array(data)\n",
    "labels = np.array(labels)\n",
    "\n",
    "\n",
    "with h5py.File('synthetic_drone_data.h5', 'w') as f:\n",
    "    f.create_dataset('iq_data', data=data)\n",
    "    f.create_dataset('labels', data=labels)\n",
    "    f.attrs['fs'] = fs\n",
    "    f.attrs['description'] = 'Synthetic drone RF signals with noise'\n",
    "\n",
    "print(f\"Saved {num_samples} samples to synthetic_drone_data.h5\")\n"
   ]
  },
  {
   "cell_type": "code",
   "execution_count": 9,
   "metadata": {},
   "outputs": [
    {
     "ename": "TypeError",
     "evalue": "argument of type 'NoneType' is not iterable",
     "output_type": "error",
     "traceback": [
      "\u001b[31m---------------------------------------------------------------------------\u001b[39m",
      "\u001b[31mTypeError\u001b[39m                                 Traceback (most recent call last)",
      "\u001b[36mCell\u001b[39m\u001b[36m \u001b[39m\u001b[32mIn[9]\u001b[39m\u001b[32m, line 5\u001b[39m\n\u001b[32m      2\u001b[39m os.environ[\u001b[33m\"\u001b[39m\u001b[33mIIO_URI\u001b[39m\u001b[33m\"\u001b[39m] = \u001b[33m\"\u001b[39m\u001b[33mlocal:\u001b[39m\u001b[33m\"\u001b[39m  \u001b[38;5;66;03m# Set a dummy URI\u001b[39;00m\n\u001b[32m      4\u001b[39m \u001b[38;5;28;01mfrom\u001b[39;00m\u001b[38;5;250m \u001b[39m\u001b[34;01munittest\u001b[39;00m\u001b[34;01m.\u001b[39;00m\u001b[34;01mmock\u001b[39;00m\u001b[38;5;250m \u001b[39m\u001b[38;5;28;01mimport\u001b[39;00m MagicMock\n\u001b[32m----> \u001b[39m\u001b[32m5\u001b[39m \u001b[38;5;28;01mimport\u001b[39;00m\u001b[38;5;250m \u001b[39m\u001b[34;01madi\u001b[39;00m\n\u001b[32m      7\u001b[39m \u001b[38;5;66;03m# Override the context manager or the parts that fail\u001b[39;00m\n\u001b[32m      8\u001b[39m adi.context_manager.context_manager = MagicMock(return_value=\u001b[38;5;28;01mNone\u001b[39;00m)\n",
      "\u001b[36mFile \u001b[39m\u001b[32mc:\\Users\\Lenovo\\Desktop\\GD-drone\\gddrone\\Lib\\site-packages\\adi\\__init__.py:5\u001b[39m\n\u001b[32m      1\u001b[39m \u001b[38;5;66;03m# Copyright (C) 2019-2025 Analog Devices, Inc.\u001b[39;00m\n\u001b[32m      2\u001b[39m \u001b[38;5;66;03m#\u001b[39;00m\n\u001b[32m      3\u001b[39m \u001b[38;5;66;03m# SPDX short identifier: ADIBSD\u001b[39;00m\n\u001b[32m----> \u001b[39m\u001b[32m5\u001b[39m \u001b[38;5;28;01mfrom\u001b[39;00m\u001b[38;5;250m \u001b[39m\u001b[34;01madi\u001b[39;00m\u001b[34;01m.\u001b[39;00m\u001b[34;01mad2s1210\u001b[39;00m\u001b[38;5;250m \u001b[39m\u001b[38;5;28;01mimport\u001b[39;00m ad2s1210\n\u001b[32m      6\u001b[39m \u001b[38;5;28;01mfrom\u001b[39;00m\u001b[38;5;250m \u001b[39m\u001b[34;01madi\u001b[39;00m\u001b[34;01m.\u001b[39;00m\u001b[34;01mad405x\u001b[39;00m\u001b[38;5;250m \u001b[39m\u001b[38;5;28;01mimport\u001b[39;00m ad405x\n\u001b[32m      7\u001b[39m \u001b[38;5;28;01mfrom\u001b[39;00m\u001b[38;5;250m \u001b[39m\u001b[34;01madi\u001b[39;00m\u001b[34;01m.\u001b[39;00m\u001b[34;01mad469x\u001b[39;00m\u001b[38;5;250m \u001b[39m\u001b[38;5;28;01mimport\u001b[39;00m ad469x\n",
      "\u001b[36mFile \u001b[39m\u001b[32mc:\\Users\\Lenovo\\Desktop\\GD-drone\\gddrone\\Lib\\site-packages\\adi\\ad2s1210.py:6\u001b[39m\n\u001b[32m      1\u001b[39m \u001b[38;5;66;03m# Copyright (C) 2023-2025 Analog Devices, Inc.\u001b[39;00m\n\u001b[32m      2\u001b[39m \u001b[38;5;66;03m#\u001b[39;00m\n\u001b[32m      3\u001b[39m \u001b[38;5;66;03m# SPDX short identifier: ADIBSD\u001b[39;00m\n\u001b[32m      5\u001b[39m \u001b[38;5;28;01mfrom\u001b[39;00m\u001b[38;5;250m \u001b[39m\u001b[34;01madi\u001b[39;00m\u001b[34;01m.\u001b[39;00m\u001b[34;01mattribute\u001b[39;00m\u001b[38;5;250m \u001b[39m\u001b[38;5;28;01mimport\u001b[39;00m attribute\n\u001b[32m----> \u001b[39m\u001b[32m6\u001b[39m \u001b[38;5;28;01mfrom\u001b[39;00m\u001b[38;5;250m \u001b[39m\u001b[34;01madi\u001b[39;00m\u001b[34;01m.\u001b[39;00m\u001b[34;01mcontext_manager\u001b[39;00m\u001b[38;5;250m \u001b[39m\u001b[38;5;28;01mimport\u001b[39;00m context_manager\n\u001b[32m      7\u001b[39m \u001b[38;5;28;01mfrom\u001b[39;00m\u001b[38;5;250m \u001b[39m\u001b[34;01madi\u001b[39;00m\u001b[34;01m.\u001b[39;00m\u001b[34;01mrx_tx\u001b[39;00m\u001b[38;5;250m \u001b[39m\u001b[38;5;28;01mimport\u001b[39;00m rx\n\u001b[32m      9\u001b[39m \u001b[38;5;66;03m# TODO: add support for events when libiio gains support for it\u001b[39;00m\n",
      "\u001b[36mFile \u001b[39m\u001b[32mc:\\Users\\Lenovo\\Desktop\\GD-drone\\gddrone\\Lib\\site-packages\\adi\\context_manager.py:5\u001b[39m\n\u001b[32m      1\u001b[39m \u001b[38;5;66;03m# Copyright (C) 2019-2025 Analog Devices, Inc.\u001b[39;00m\n\u001b[32m      2\u001b[39m \u001b[38;5;66;03m#\u001b[39;00m\n\u001b[32m      3\u001b[39m \u001b[38;5;66;03m# SPDX short identifier: ADIBSD\u001b[39;00m\n\u001b[32m----> \u001b[39m\u001b[32m5\u001b[39m \u001b[38;5;28;01mimport\u001b[39;00m\u001b[38;5;250m \u001b[39m\u001b[34;01miio\u001b[39;00m\n\u001b[32m      8\u001b[39m \u001b[38;5;28;01mclass\u001b[39;00m\u001b[38;5;250m \u001b[39m\u001b[34;01mcontext_manager\u001b[39;00m(\u001b[38;5;28mobject\u001b[39m):\n\u001b[32m      9\u001b[39m     _uri_auto = \u001b[33m\"\u001b[39m\u001b[33mip:analog\u001b[39m\u001b[33m\"\u001b[39m\n",
      "\u001b[36mFile \u001b[39m\u001b[32mc:\\Users\\Lenovo\\Desktop\\GD-drone\\gddrone\\Lib\\site-packages\\iio.py:227\u001b[39m\n\u001b[32m    223\u001b[39m \u001b[38;5;28;01melse\u001b[39;00m:\n\u001b[32m    224\u001b[39m     \u001b[38;5;66;03m# Non-windows, possibly Posix system\u001b[39;00m\n\u001b[32m    225\u001b[39m     _iiolib = \u001b[33m\"\u001b[39m\u001b[33miio\u001b[39m\u001b[33m\"\u001b[39m\n\u001b[32m--> \u001b[39m\u001b[32m227\u001b[39m _lib = \u001b[43m_cdll\u001b[49m\u001b[43m(\u001b[49m\u001b[43mfind_library\u001b[49m\u001b[43m(\u001b[49m\u001b[43m_iiolib\u001b[49m\u001b[43m)\u001b[49m\u001b[43m,\u001b[49m\u001b[43m \u001b[49m\u001b[43muse_errno\u001b[49m\u001b[43m=\u001b[49m\u001b[38;5;28;43;01mTrue\u001b[39;49;00m\u001b[43m,\u001b[49m\u001b[43m \u001b[49m\u001b[43muse_last_error\u001b[49m\u001b[43m=\u001b[49m\u001b[38;5;28;43;01mTrue\u001b[39;49;00m\u001b[43m)\u001b[49m\n\u001b[32m    229\u001b[39m _get_backends_count = _lib.iio_get_backends_count\n\u001b[32m    230\u001b[39m _get_backends_count.restype = c_uint\n",
      "\u001b[36mFile \u001b[39m\u001b[32mC:\\Program Files\\Python311\\Lib\\ctypes\\__init__.py:366\u001b[39m, in \u001b[36mCDLL.__init__\u001b[39m\u001b[34m(self, name, mode, handle, use_errno, use_last_error, winmode)\u001b[39m\n\u001b[32m    364\u001b[39m \u001b[38;5;28;01mimport\u001b[39;00m\u001b[38;5;250m \u001b[39m\u001b[34;01mnt\u001b[39;00m\n\u001b[32m    365\u001b[39m mode = nt._LOAD_LIBRARY_SEARCH_DEFAULT_DIRS\n\u001b[32m--> \u001b[39m\u001b[32m366\u001b[39m \u001b[38;5;28;01mif\u001b[39;00m \u001b[33;43m'\u001b[39;49m\u001b[33;43m/\u001b[39;49m\u001b[33;43m'\u001b[39;49m\u001b[43m \u001b[49m\u001b[38;5;129;43;01min\u001b[39;49;00m\u001b[43m \u001b[49m\u001b[43mname\u001b[49m \u001b[38;5;129;01mor\u001b[39;00m \u001b[33m'\u001b[39m\u001b[38;5;130;01m\\\\\u001b[39;00m\u001b[33m'\u001b[39m \u001b[38;5;129;01min\u001b[39;00m name:\n\u001b[32m    367\u001b[39m     \u001b[38;5;28mself\u001b[39m._name = nt._getfullpathname(\u001b[38;5;28mself\u001b[39m._name)\n\u001b[32m    368\u001b[39m     mode |= nt._LOAD_LIBRARY_SEARCH_DLL_LOAD_DIR\n",
      "\u001b[31mTypeError\u001b[39m: argument of type 'NoneType' is not iterable"
     ]
    }
   ],
   "source": [
    "import os\n",
    "os.environ[\"IIO_URI\"] = \"local:\"  # Set a dummy URI\n",
    "\n",
    "from unittest.mock import MagicMock\n",
    "import adi\n",
    "\n",
    "# Override the context manager or the parts that fail\n",
    "adi.context_manager.context_manager = MagicMock(return_value=None)\n"
   ]
  },
  {
   "cell_type": "code",
   "execution_count": null,
   "metadata": {},
   "outputs": [],
   "source": []
  }
 ],
 "metadata": {
  "kernelspec": {
   "display_name": "gddrone",
   "language": "python",
   "name": "python3"
  },
  "language_info": {
   "codemirror_mode": {
    "name": "ipython",
    "version": 3
   },
   "file_extension": ".py",
   "mimetype": "text/x-python",
   "name": "python",
   "nbconvert_exporter": "python",
   "pygments_lexer": "ipython3",
   "version": "3.11.5"
  }
 },
 "nbformat": 4,
 "nbformat_minor": 2
}
